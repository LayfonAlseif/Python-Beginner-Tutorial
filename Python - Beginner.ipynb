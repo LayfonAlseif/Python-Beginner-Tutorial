{
 "cells": [
  {
   "cell_type": "markdown",
   "metadata": {},
   "source": [
    "# Imports the modules"
   ]
  },
  {
   "cell_type": "code",
   "execution_count": 1,
   "metadata": {},
   "outputs": [],
   "source": [
    "import random\n",
    "import sys\n",
    "import os"
   ]
  },
  {
   "cell_type": "markdown",
   "metadata": {},
   "source": [
    "## Printing hello world"
   ]
  },
  {
   "cell_type": "code",
   "execution_count": 2,
   "metadata": {},
   "outputs": [
    {
     "name": "stdout",
     "output_type": "stream",
     "text": [
      "Hello World\n"
     ]
    }
   ],
   "source": [
    "print('Hello World')"
   ]
  },
  {
   "cell_type": "markdown",
   "metadata": {},
   "source": [
    "## Comments in Python"
   ]
  },
  {
   "cell_type": "code",
   "execution_count": 3,
   "metadata": {},
   "outputs": [
    {
     "data": {
      "text/plain": [
       "'\\nMultiline\\n'"
      ]
     },
     "execution_count": 3,
     "metadata": {},
     "output_type": "execute_result"
    }
   ],
   "source": [
    "# Comment\n",
    "\n",
    "'''\n",
    "Multiline\n",
    "'''"
   ]
  },
  {
   "cell_type": "markdown",
   "metadata": {},
   "source": [
    "## Variables in Python"
   ]
  },
  {
   "cell_type": "code",
   "execution_count": 85,
   "metadata": {},
   "outputs": [
    {
     "name": "stdout",
     "output_type": "stream",
     "text": [
      "Layfon Alseif\n"
     ]
    }
   ],
   "source": [
    "name = \"Layfon Alseif\"\n",
    "print(name)"
   ]
  },
  {
   "cell_type": "markdown",
   "metadata": {},
   "source": [
    "## Operators in Python"
   ]
  },
  {
   "cell_type": "code",
   "execution_count": 5,
   "metadata": {},
   "outputs": [
    {
     "name": "stdout",
     "output_type": "stream",
     "text": [
      " 5 + 2= 7\n",
      " 5 - 2= 3\n",
      " 5 * 2= 10\n",
      " 5 / 2= 2.5\n",
      " 5 ** 2= 25\n",
      " 5 // 2= 2\n"
     ]
    }
   ],
   "source": [
    "print(\" 5 + 2=\", 5+2)\n",
    "print(\" 5 - 2=\", 5-2)\n",
    "print(\" 5 * 2=\", 5*2)\n",
    "print(\" 5 / 2=\", 5/2)\n",
    "print(\" 5 ** 2=\", 5**2)\n",
    "print(\" 5 // 2=\", 5//2)"
   ]
  },
  {
   "cell_type": "markdown",
   "metadata": {},
   "source": [
    "## Order of operation states"
   ]
  },
  {
   "cell_type": "code",
   "execution_count": 7,
   "metadata": {
    "scrolled": true
   },
   "outputs": [
    {
     "name": "stdout",
     "output_type": "stream",
     "text": [
      "1 + 2 - 3 * 2 =  -3\n",
      "(1 + 2 - 3) * 2 =  0\n"
     ]
    }
   ],
   "source": [
    "print(\"1 + 2 - 3 * 2 = \", 1 + 2 - 3 * 2)\n",
    "print(\"(1 + 2 - 3) * 2 = \", (1 + 2 - 3) * 2)"
   ]
  },
  {
   "cell_type": "markdown",
   "metadata": {},
   "source": [
    "### A string is a string of characters surrounded by \" or '\n",
    "### If you must use a \" or ' between the same quote escape it with \\"
   ]
  },
  {
   "cell_type": "code",
   "execution_count": 10,
   "metadata": {},
   "outputs": [
    {
     "name": "stdout",
     "output_type": "stream",
     "text": [
      "\"Always remember you are unique just\n",
      "like everyone else\n",
      "\n"
     ]
    }
   ],
   "source": [
    "quote = \"\\\"Always remember you are unique\"\n",
    "\n",
    "multi_line_quote = ''' just\n",
    "like everyone else\n",
    "'''\n",
    "\n",
    "new_string = quote + multi_line_quote\n",
    "print(new_string)"
   ]
  },
  {
   "cell_type": "markdown",
   "metadata": {},
   "source": [
    "## To embed a string in output use %s"
   ]
  },
  {
   "cell_type": "code",
   "execution_count": 11,
   "metadata": {},
   "outputs": [
    {
     "name": "stdout",
     "output_type": "stream",
     "text": [
      "I like the quite \"Always remember you are unique  just\n",
      "like everyone else\n",
      "\n"
     ]
    }
   ],
   "source": [
    "print(\"%s %s %s\" %('I like the quite',quote, multi_line_quote))"
   ]
  },
  {
   "cell_type": "markdown",
   "metadata": {},
   "source": [
    "## To keep from printing newlines use end=\"\""
   ]
  },
  {
   "cell_type": "code",
   "execution_count": 14,
   "metadata": {},
   "outputs": [
    {
     "name": "stdout",
     "output_type": "stream",
     "text": [
      "\n",
      "\n",
      "\n",
      "\n",
      "\n",
      "\n",
      "I don't like newlines\n"
     ]
    }
   ],
   "source": [
    "print('\\n' * 5)\n",
    "print(\"I don't like \", end = \"\" )\n",
    "print(\"newlines\")"
   ]
  },
  {
   "cell_type": "markdown",
   "metadata": {},
   "source": [
    "# Lists in Python"
   ]
  },
  {
   "cell_type": "code",
   "execution_count": 2,
   "metadata": {},
   "outputs": [
    {
     "name": "stdout",
     "output_type": "stream",
     "text": [
      "First Item Juice\n"
     ]
    }
   ],
   "source": [
    "grocery_list = ['Juice', 'Tomatoes', 'Potatoes', 'Bananas']\n",
    "\n",
    "print('First Item', grocery_list[0])"
   ]
  },
  {
   "cell_type": "markdown",
   "metadata": {},
   "source": [
    "## Change the value stored in a list box"
   ]
  },
  {
   "cell_type": "code",
   "execution_count": 3,
   "metadata": {},
   "outputs": [
    {
     "name": "stdout",
     "output_type": "stream",
     "text": [
      "First Item Green Juice\n"
     ]
    }
   ],
   "source": [
    "grocery_list[0] = \"Green Juice\"\n",
    "print('First Item', grocery_list[0])"
   ]
  },
  {
   "cell_type": "markdown",
   "metadata": {},
   "source": [
    "## Printing a subset of the list"
   ]
  },
  {
   "cell_type": "code",
   "execution_count": 17,
   "metadata": {},
   "outputs": [
    {
     "name": "stdout",
     "output_type": "stream",
     "text": [
      "['Tomatoes', 'Potatoes']\n"
     ]
    }
   ],
   "source": [
    "print(grocery_list[1:3])"
   ]
  },
  {
   "cell_type": "markdown",
   "metadata": {},
   "source": [
    "## Creating new list using 2 lists"
   ]
  },
  {
   "cell_type": "code",
   "execution_count": 18,
   "metadata": {},
   "outputs": [
    {
     "name": "stdout",
     "output_type": "stream",
     "text": [
      "[['Wash Car', 'Pick Up Kids', 'Cash Check'], ['Green Juice', 'Tomatoes', 'Potatoes', 'Bananas']]\n"
     ]
    }
   ],
   "source": [
    "other_events = ['Wash Car', 'Pick Up Kids', 'Cash Check']\n",
    "\n",
    "to_do_list = [other_events, grocery_list]\n",
    "print(to_do_list)"
   ]
  },
  {
   "cell_type": "markdown",
   "metadata": {},
   "source": [
    "## Get the second item in the second list (Boxes inside of boxes)"
   ]
  },
  {
   "cell_type": "code",
   "execution_count": 19,
   "metadata": {},
   "outputs": [
    {
     "name": "stdout",
     "output_type": "stream",
     "text": [
      "Tomatoes\n"
     ]
    }
   ],
   "source": [
    "print(to_do_list[1][1])"
   ]
  },
  {
   "cell_type": "markdown",
   "metadata": {},
   "source": [
    "## You add values using append in the list"
   ]
  },
  {
   "cell_type": "code",
   "execution_count": 20,
   "metadata": {},
   "outputs": [
    {
     "name": "stdout",
     "output_type": "stream",
     "text": [
      "[['Wash Car', 'Pick Up Kids', 'Cash Check'], ['Green Juice', 'Tomatoes', 'Potatoes', 'Bananas', 'Onions']]\n"
     ]
    }
   ],
   "source": [
    "grocery_list.append('Onions')\n",
    "print(to_do_list)"
   ]
  },
  {
   "cell_type": "markdown",
   "metadata": {},
   "source": [
    "## Insert item at given index"
   ]
  },
  {
   "cell_type": "code",
   "execution_count": 21,
   "metadata": {},
   "outputs": [
    {
     "name": "stdout",
     "output_type": "stream",
     "text": [
      "['Green Juice', 'Pickle', 'Tomatoes', 'Potatoes', 'Bananas', 'Onions']\n"
     ]
    }
   ],
   "source": [
    "grocery_list.insert(1, 'Pickle')\n",
    "print(grocery_list)"
   ]
  },
  {
   "cell_type": "markdown",
   "metadata": {},
   "source": [
    "## Remove item from list"
   ]
  },
  {
   "cell_type": "code",
   "execution_count": 22,
   "metadata": {},
   "outputs": [
    {
     "name": "stdout",
     "output_type": "stream",
     "text": [
      "['Green Juice', 'Tomatoes', 'Potatoes', 'Bananas', 'Onions']\n"
     ]
    }
   ],
   "source": [
    "grocery_list.remove('Pickle')\n",
    "print(grocery_list)"
   ]
  },
  {
   "cell_type": "markdown",
   "metadata": {},
   "source": [
    "## # Sorts items in list"
   ]
  },
  {
   "cell_type": "code",
   "execution_count": 24,
   "metadata": {},
   "outputs": [
    {
     "name": "stdout",
     "output_type": "stream",
     "text": [
      "['Bananas', 'Green Juice', 'Onions', 'Potatoes', 'Tomatoes']\n"
     ]
    }
   ],
   "source": [
    "grocery_list.sort()\n",
    "print(grocery_list)"
   ]
  },
  {
   "cell_type": "markdown",
   "metadata": {},
   "source": [
    "## Reverse sort items in list"
   ]
  },
  {
   "cell_type": "code",
   "execution_count": 25,
   "metadata": {},
   "outputs": [
    {
     "name": "stdout",
     "output_type": "stream",
     "text": [
      "['Tomatoes', 'Potatoes', 'Onions', 'Green Juice', 'Bananas']\n"
     ]
    }
   ],
   "source": [
    "grocery_list.reverse()\n",
    "print(grocery_list)"
   ]
  },
  {
   "cell_type": "markdown",
   "metadata": {},
   "source": [
    "## # del deletes an item at specified index"
   ]
  },
  {
   "cell_type": "code",
   "execution_count": 26,
   "metadata": {},
   "outputs": [
    {
     "name": "stdout",
     "output_type": "stream",
     "text": [
      "[['Wash Car', 'Pick Up Kids', 'Cash Check'], ['Tomatoes', 'Potatoes', 'Onions', 'Green Juice']]\n"
     ]
    }
   ],
   "source": [
    "del grocery_list[4]\n",
    "print(to_do_list)"
   ]
  },
  {
   "cell_type": "markdown",
   "metadata": {},
   "source": [
    "## combine lists with a +"
   ]
  },
  {
   "cell_type": "code",
   "execution_count": 27,
   "metadata": {},
   "outputs": [
    {
     "name": "stdout",
     "output_type": "stream",
     "text": [
      "['Wash Car', 'Pick Up Kids', 'Cash Check', 'Tomatoes', 'Potatoes', 'Onions', 'Green Juice']\n"
     ]
    }
   ],
   "source": [
    "to_do_list2 = other_events + grocery_list\n",
    "print(to_do_list2)"
   ]
  },
  {
   "cell_type": "markdown",
   "metadata": {},
   "source": [
    "##  Get length, max and min item of list"
   ]
  },
  {
   "cell_type": "code",
   "execution_count": 28,
   "metadata": {},
   "outputs": [
    {
     "name": "stdout",
     "output_type": "stream",
     "text": [
      "7\n",
      "Wash Car\n",
      "Cash Check\n"
     ]
    }
   ],
   "source": [
    "print(len(to_do_list2))\n",
    "print(max(to_do_list2))\n",
    "print(min(to_do_list2))"
   ]
  },
  {
   "cell_type": "markdown",
   "metadata": {},
   "source": [
    "# Tuples in Python"
   ]
  },
  {
   "cell_type": "code",
   "execution_count": 29,
   "metadata": {},
   "outputs": [
    {
     "name": "stdout",
     "output_type": "stream",
     "text": [
      "(3, 1, 4, 1, 5, 9)\n"
     ]
    }
   ],
   "source": [
    "pi_tuple = (3,1,4,1,5,9)\n",
    "print(pi_tuple)"
   ]
  },
  {
   "cell_type": "markdown",
   "metadata": {},
   "source": [
    "## Convert tuple into a list"
   ]
  },
  {
   "cell_type": "code",
   "execution_count": 30,
   "metadata": {},
   "outputs": [
    {
     "name": "stdout",
     "output_type": "stream",
     "text": [
      "[3, 1, 4, 1, 5, 9]\n"
     ]
    }
   ],
   "source": [
    "new_list = list(pi_tuple)\n",
    "print(new_list)"
   ]
  },
  {
   "cell_type": "markdown",
   "metadata": {},
   "source": [
    "## Convert a list into a tuple\n"
   ]
  },
  {
   "cell_type": "code",
   "execution_count": 5,
   "metadata": {},
   "outputs": [
    {
     "ename": "NameError",
     "evalue": "name 'new_list' is not defined",
     "output_type": "error",
     "traceback": [
      "\u001b[0;31m---------------------------------------------------------------------------\u001b[0m",
      "\u001b[0;31mNameError\u001b[0m                                 Traceback (most recent call last)",
      "\u001b[0;32m<ipython-input-5-104d2332ca58>\u001b[0m in \u001b[0;36m<module>\u001b[0;34m()\u001b[0m\n\u001b[0;32m----> 1\u001b[0;31m \u001b[0mnew_tuple\u001b[0m \u001b[0;34m=\u001b[0m \u001b[0mtuple\u001b[0m\u001b[0;34m(\u001b[0m\u001b[0mnew_list\u001b[0m\u001b[0;34m)\u001b[0m\u001b[0;34m\u001b[0m\u001b[0m\n\u001b[0m\u001b[1;32m      2\u001b[0m \u001b[0mprint\u001b[0m\u001b[0;34m(\u001b[0m\u001b[0mnew_tuple\u001b[0m\u001b[0;34m)\u001b[0m\u001b[0;34m\u001b[0m\u001b[0m\n",
      "\u001b[0;31mNameError\u001b[0m: name 'new_list' is not defined"
     ]
    }
   ],
   "source": [
    "new_tuple = tuple(new_list)\n",
    "print(new_tuple)"
   ]
  },
  {
   "cell_type": "markdown",
   "metadata": {},
   "source": [
    "## Get length, max and min item of tuple"
   ]
  },
  {
   "cell_type": "code",
   "execution_count": 33,
   "metadata": {},
   "outputs": [
    {
     "name": "stdout",
     "output_type": "stream",
     "text": [
      "6\n",
      "9\n",
      "1\n"
     ]
    }
   ],
   "source": [
    "print(len(pi_tuple))\n",
    "print(max(pi_tuple))\n",
    "print(min(pi_tuple))"
   ]
  },
  {
   "cell_type": "markdown",
   "metadata": {},
   "source": [
    "## DICTIONARY or MAP"
   ]
  },
  {
   "cell_type": "code",
   "execution_count": 36,
   "metadata": {},
   "outputs": [
    {
     "name": "stdout",
     "output_type": "stream",
     "text": [
      "Leonard Snart\n"
     ]
    }
   ],
   "source": [
    "super_villans = {'Fiddler' : 'Isaac Bowin', \n",
    "                 'Captain Cold' : 'Leonard Snart',\n",
    "                  'Weather Wizard' : 'Mark Mardon',\n",
    "                   'Mirror Master' : 'Sam Scudder',\n",
    "                    'Pied Piper' : ' Thomas Peterson'}\n",
    "\n",
    "print(super_villans['Captain Cold'])"
   ]
  },
  {
   "cell_type": "markdown",
   "metadata": {},
   "source": [
    "## Delete an entry"
   ]
  },
  {
   "cell_type": "code",
   "execution_count": 37,
   "metadata": {},
   "outputs": [
    {
     "name": "stdout",
     "output_type": "stream",
     "text": [
      "{'Captain Cold': 'Leonard Snart', 'Weather Wizard': 'Mark Mardon', 'Mirror Master': 'Sam Scudder', 'Pied Piper': ' Thomas Peterson'}\n"
     ]
    }
   ],
   "source": [
    "del super_villans['Fiddler']\n",
    "print(super_villans)"
   ]
  },
  {
   "cell_type": "markdown",
   "metadata": {},
   "source": [
    "## Replace a value"
   ]
  },
  {
   "cell_type": "code",
   "execution_count": 38,
   "metadata": {},
   "outputs": [
    {
     "name": "stdout",
     "output_type": "stream",
     "text": [
      "{'Captain Cold': 'Leonard Snart', 'Weather Wizard': 'Mark Mardon', 'Mirror Master': 'Sam Scudder', 'Pied Piper': 'Hartley Rathaway'}\n"
     ]
    }
   ],
   "source": [
    "super_villans['Pied Piper'] = 'Hartley Rathaway'\n",
    "print(super_villans)"
   ]
  },
  {
   "cell_type": "markdown",
   "metadata": {},
   "source": [
    "## Print the number of items in the dictionary"
   ]
  },
  {
   "cell_type": "code",
   "execution_count": 39,
   "metadata": {},
   "outputs": [
    {
     "name": "stdout",
     "output_type": "stream",
     "text": [
      "4\n"
     ]
    }
   ],
   "source": [
    "print(len(super_villans))"
   ]
  },
  {
   "cell_type": "markdown",
   "metadata": {},
   "source": [
    "## Get the value for the passed key"
   ]
  },
  {
   "cell_type": "code",
   "execution_count": 40,
   "metadata": {},
   "outputs": [
    {
     "name": "stdout",
     "output_type": "stream",
     "text": [
      "Hartley Rathaway\n"
     ]
    }
   ],
   "source": [
    "print(super_villans.get('Pied Piper'))"
   ]
  },
  {
   "cell_type": "markdown",
   "metadata": {},
   "source": [
    "## Get a list of dictionary keys"
   ]
  },
  {
   "cell_type": "code",
   "execution_count": 41,
   "metadata": {},
   "outputs": [
    {
     "name": "stdout",
     "output_type": "stream",
     "text": [
      "dict_keys(['Captain Cold', 'Weather Wizard', 'Mirror Master', 'Pied Piper'])\n"
     ]
    }
   ],
   "source": [
    "print(super_villans.keys())"
   ]
  },
  {
   "cell_type": "markdown",
   "metadata": {},
   "source": [
    "## Get a list of dictionary values"
   ]
  },
  {
   "cell_type": "code",
   "execution_count": 42,
   "metadata": {},
   "outputs": [
    {
     "name": "stdout",
     "output_type": "stream",
     "text": [
      "dict_values(['Leonard Snart', 'Mark Mardon', 'Sam Scudder', 'Hartley Rathaway'])\n"
     ]
    }
   ],
   "source": [
    "print(super_villans.values())"
   ]
  },
  {
   "cell_type": "markdown",
   "metadata": {},
   "source": [
    "# Conditionals\n",
    "\n",
    "## if-else condition"
   ]
  },
  {
   "cell_type": "code",
   "execution_count": 43,
   "metadata": {},
   "outputs": [
    {
     "name": "stdout",
     "output_type": "stream",
     "text": [
      "You are old enough to drive\n"
     ]
    }
   ],
   "source": [
    "age = 21\n",
    "\n",
    "if age > 18:\n",
    "    print('You are old enough to drive')\n",
    "else:\n",
    "    print('You are not old enough to drive')"
   ]
  },
  {
   "cell_type": "markdown",
   "metadata": {},
   "source": [
    "## if-elif-else condition"
   ]
  },
  {
   "cell_type": "code",
   "execution_count": 44,
   "metadata": {},
   "outputs": [
    {
     "name": "stdout",
     "output_type": "stream",
     "text": [
      "You are old enough to drive a tractor trailer\n"
     ]
    }
   ],
   "source": [
    "if age >= 21:\n",
    "    print('You are old enough to drive a tractor trailer')\n",
    "elif age >= 18:\n",
    "    print('You are old enough to drive')\n",
    "else:\n",
    "    print('You are not old enough to drive')"
   ]
  },
  {
   "cell_type": "markdown",
   "metadata": {},
   "source": [
    "## combine conditions with logical operators- and, or, not"
   ]
  },
  {
   "cell_type": "code",
   "execution_count": 47,
   "metadata": {},
   "outputs": [
    {
     "name": "stdout",
     "output_type": "stream",
     "text": [
      "You get a birthday party yeah\n"
     ]
    }
   ],
   "source": [
    "age = 30\n",
    "if ((age >= 1) and (age <= 18)):\n",
    "    print('You get a birthday')\n",
    "elif (age == 21) or (age >= 65):\n",
    "     print('You get a birthday')\n",
    "elif not(age == 30):\n",
    "     print(\"You don't get a birthday\")\n",
    "else:\n",
    "     print('You get a birthday party yeah')"
   ]
  },
  {
   "cell_type": "markdown",
   "metadata": {},
   "source": [
    "# FOR LOOPS"
   ]
  },
  {
   "cell_type": "code",
   "execution_count": 48,
   "metadata": {},
   "outputs": [
    {
     "name": "stdout",
     "output_type": "stream",
     "text": [
      "0  1  2  3  4  5  6  7  8  9  "
     ]
    }
   ],
   "source": [
    "for x in range(0, 10):\n",
    "    print(x , \" \", end=\"\")"
   ]
  },
  {
   "cell_type": "markdown",
   "metadata": {},
   "source": [
    "## for loops to cycle through a list"
   ]
  },
  {
   "cell_type": "code",
   "execution_count": 49,
   "metadata": {},
   "outputs": [
    {
     "name": "stdout",
     "output_type": "stream",
     "text": [
      "Tomatoes\n",
      "Potatoes\n",
      "Onions\n",
      "Green Juice\n"
     ]
    }
   ],
   "source": [
    "for y in grocery_list:\n",
    "    print(y)"
   ]
  },
  {
   "cell_type": "markdown",
   "metadata": {},
   "source": [
    "## define a list of numbers to cycle through"
   ]
  },
  {
   "cell_type": "code",
   "execution_count": 50,
   "metadata": {},
   "outputs": [
    {
     "name": "stdout",
     "output_type": "stream",
     "text": [
      "2\n",
      "4\n",
      "6\n",
      "8\n",
      "10\n"
     ]
    }
   ],
   "source": [
    "for x in [2,4,6,8,10]:\n",
    "    print(x)"
   ]
  },
  {
   "cell_type": "markdown",
   "metadata": {},
   "source": [
    "## double up for loops to cycle through lists"
   ]
  },
  {
   "cell_type": "code",
   "execution_count": 51,
   "metadata": {},
   "outputs": [
    {
     "name": "stdout",
     "output_type": "stream",
     "text": [
      "1\n",
      "2\n",
      "3\n",
      "10\n",
      "20\n",
      "30\n",
      "100\n",
      "200\n",
      "300\n"
     ]
    }
   ],
   "source": [
    "num_list = [[1,2,3],[10,20,30],[100,200,300]]\n",
    "\n",
    "for x in range(0,3):\n",
    "    for y in range(0,3):\n",
    "        print(num_list[x][y])"
   ]
  },
  {
   "cell_type": "markdown",
   "metadata": {},
   "source": [
    "# WHILE LOOPS"
   ]
  },
  {
   "cell_type": "code",
   "execution_count": 52,
   "metadata": {},
   "outputs": [
    {
     "name": "stdout",
     "output_type": "stream",
     "text": [
      "65\n",
      "27\n",
      "19\n",
      "0\n",
      "65\n",
      "88\n",
      "50\n",
      "32\n",
      "61\n",
      "92\n",
      "63\n",
      "64\n",
      "37\n",
      "63\n",
      "68\n",
      "84\n",
      "23\n",
      "5\n",
      "24\n",
      "43\n",
      "85\n",
      "5\n",
      "10\n",
      "95\n",
      "6\n",
      "72\n",
      "72\n",
      "72\n",
      "78\n",
      "23\n",
      "47\n",
      "68\n",
      "0\n",
      "28\n",
      "40\n",
      "20\n",
      "50\n",
      "67\n",
      "19\n",
      "47\n",
      "44\n",
      "63\n",
      "37\n",
      "86\n",
      "31\n",
      "31\n",
      "4\n",
      "23\n"
     ]
    }
   ],
   "source": [
    "random_num = random.randrange(0,100)\n",
    "\n",
    "while(random_num != 15):\n",
    "    print(random_num)\n",
    "    random_num = random.randrange(0,100)"
   ]
  },
  {
   "cell_type": "markdown",
   "metadata": {},
   "source": [
    "### An iterator for a while loop is defined before the loop"
   ]
  },
  {
   "cell_type": "code",
   "execution_count": 53,
   "metadata": {},
   "outputs": [
    {
     "name": "stdout",
     "output_type": "stream",
     "text": [
      "0\n",
      "2\n",
      "4\n",
      "6\n",
      "8\n"
     ]
    }
   ],
   "source": [
    "i = 0;\n",
    "\n",
    "while(i <= 20):\n",
    "    if(i%2 == 0):\n",
    "        print(i)\n",
    "    elif(i ==9):\n",
    "        break\n",
    "    else:\n",
    "        i+=1\n",
    "        continue\n",
    "    i+=1    "
   ]
  },
  {
   "cell_type": "markdown",
   "metadata": {},
   "source": [
    "# FUNCTIONS"
   ]
  },
  {
   "cell_type": "code",
   "execution_count": 54,
   "metadata": {},
   "outputs": [
    {
     "name": "stdout",
     "output_type": "stream",
     "text": [
      "5\n"
     ]
    }
   ],
   "source": [
    "def addNumber(fNum, lNum):\n",
    "    sumNum = fNum + lNum\n",
    "    return sumNum\n",
    "\n",
    "print(addNumber(1,4))"
   ]
  },
  {
   "cell_type": "markdown",
   "metadata": {},
   "source": [
    "## USER INPUT"
   ]
  },
  {
   "cell_type": "code",
   "execution_count": 86,
   "metadata": {},
   "outputs": [
    {
     "name": "stdout",
     "output_type": "stream",
     "text": [
      "What is your name\n",
      "Layfon Alseif\n",
      "Hello Layfon Alseif\n"
     ]
    }
   ],
   "source": [
    "print('What is your name')\n",
    "name = input()\n",
    "print('Hello', name)"
   ]
  },
  {
   "cell_type": "markdown",
   "metadata": {},
   "source": [
    "# Strings in Python"
   ]
  },
  {
   "cell_type": "code",
   "execution_count": 59,
   "metadata": {},
   "outputs": [
    {
     "name": "stdout",
     "output_type": "stream",
     "text": [
      "I'll\n",
      "Floor\n",
      "I'll catch you if you fall - The \n"
     ]
    }
   ],
   "source": [
    "long_string = \"I'll catch you if you fall - The Floor\"\n",
    "print(long_string[0:4])\n",
    "print(long_string[-5:])\n",
    "print(long_string[:-5])"
   ]
  },
  {
   "cell_type": "markdown",
   "metadata": {},
   "source": [
    "## Concatenate part of a string to another"
   ]
  },
  {
   "cell_type": "code",
   "execution_count": 60,
   "metadata": {},
   "outputs": [
    {
     "name": "stdout",
     "output_type": "stream",
     "text": [
      "I'll be there\n"
     ]
    }
   ],
   "source": [
    "print(long_string[:4] + \" be there\")"
   ]
  },
  {
   "cell_type": "markdown",
   "metadata": {},
   "source": [
    "## String formatting\n"
   ]
  },
  {
   "cell_type": "code",
   "execution_count": 61,
   "metadata": {},
   "outputs": [
    {
     "name": "stdout",
     "output_type": "stream",
     "text": [
      "X is my favorite letter and my number 1 number is 0.14000\n"
     ]
    }
   ],
   "source": [
    "print(\"%c is my %s letter and my number %d number is %.5f\" %('X','favorite',1, 0.14))"
   ]
  },
  {
   "cell_type": "code",
   "execution_count": 62,
   "metadata": {},
   "outputs": [
    {
     "name": "stdout",
     "output_type": "stream",
     "text": [
      "I'll catch you if you fall - the floor\n",
      "33\n"
     ]
    }
   ],
   "source": [
    "print(long_string.capitalize())\n",
    "print(long_string.find('Floor'))"
   ]
  },
  {
   "cell_type": "markdown",
   "metadata": {},
   "source": [
    "## First - Returns true if all characters are letters ' isn't a letter\n",
    "## Second -  Returns true if all characters are numbers"
   ]
  },
  {
   "cell_type": "code",
   "execution_count": 64,
   "metadata": {},
   "outputs": [
    {
     "name": "stdout",
     "output_type": "stream",
     "text": [
      "False\n",
      "False\n"
     ]
    }
   ],
   "source": [
    "print(long_string.isalpha())\n",
    "print(long_string.isalnum())"
   ]
  },
  {
   "cell_type": "markdown",
   "metadata": {},
   "source": [
    "## Replace the first word with the second"
   ]
  },
  {
   "cell_type": "code",
   "execution_count": 65,
   "metadata": {},
   "outputs": [
    {
     "name": "stdout",
     "output_type": "stream",
     "text": [
      "38\n",
      "I'll catch you if you fall - The Ground\n"
     ]
    }
   ],
   "source": [
    "print(len(long_string))\n",
    "print(long_string.replace(\"Floor\", \"Ground\"))"
   ]
  },
  {
   "cell_type": "markdown",
   "metadata": {},
   "source": [
    "## Split a string into a list based on the delimiter you provide"
   ]
  },
  {
   "cell_type": "code",
   "execution_count": 67,
   "metadata": {},
   "outputs": [
    {
     "name": "stdout",
     "output_type": "stream",
     "text": [
      "[\"I'll\", 'catch', 'you', 'if', 'you', 'fall', '-', 'The', 'Floor']\n"
     ]
    }
   ],
   "source": [
    "quote_list = long_string.split(\" \")\n",
    "print(quote_list)"
   ]
  },
  {
   "cell_type": "markdown",
   "metadata": {},
   "source": [
    "# FILE I/O\n",
    "\n",
    "##  Overwrite or create a file for writing and write text to a file with a newline. Close the file"
   ]
  },
  {
   "cell_type": "code",
   "execution_count": 72,
   "metadata": {},
   "outputs": [
    {
     "name": "stdout",
     "output_type": "stream",
     "text": [
      "wb\n",
      "test.txt\n"
     ]
    }
   ],
   "source": [
    "test_file = open(\"test.txt\",'wb')\n",
    "print(test_file.mode)\n",
    "print(test_file.name)\n",
    "test_file.write(bytes(\"Write me to the file\\n\", 'UTF-8'))\n",
    "test_file.close()"
   ]
  },
  {
   "cell_type": "markdown",
   "metadata": {},
   "source": [
    "## Opens a file for reading and writing and reads text from the file"
   ]
  },
  {
   "cell_type": "code",
   "execution_count": 73,
   "metadata": {},
   "outputs": [
    {
     "name": "stdout",
     "output_type": "stream",
     "text": [
      "Write me to the file\n",
      "\n"
     ]
    }
   ],
   "source": [
    "test_file= open('test.txt','r+')\n",
    "text_in_file = test_file.read()\n",
    "print(text_in_file)"
   ]
  },
  {
   "cell_type": "markdown",
   "metadata": {},
   "source": [
    "## Delete the file"
   ]
  },
  {
   "cell_type": "code",
   "execution_count": 74,
   "metadata": {},
   "outputs": [],
   "source": [
    "os.remove('test.txt')"
   ]
  },
  {
   "cell_type": "markdown",
   "metadata": {},
   "source": [
    "# CLASSES AND OBJECTS"
   ]
  },
  {
   "cell_type": "code",
   "execution_count": 6,
   "metadata": {},
   "outputs": [],
   "source": [
    "class Animal:\n",
    "    __name = \"\"\n",
    "    __height = 0\n",
    "    __weight = 0\n",
    "    __sound = 0\n",
    "    \n",
    "    # constructor\n",
    "    def __init__(self, name, height, weight, sound):\n",
    "        self.__name = name\n",
    "        self.__height = height\n",
    "        self.__weight = weight\n",
    "        self.__sound = sound\n",
    "    \n",
    "    def set_name(self, name):\n",
    "        self.__name = name\n",
    "        \n",
    "    def get_name(self):\n",
    "        return self.__name\n",
    "    \n",
    "    def set_height(self, height):\n",
    "        self.__height = height\n",
    "        \n",
    "    def get_height(self):\n",
    "        return self.__height\n",
    "    \n",
    "    def set_weight(self, weight):\n",
    "        self.__weight = weight\n",
    "        \n",
    "    def get_weight(self):\n",
    "        return self.__weight\n",
    "    \n",
    "    def set_sound(self, sound):\n",
    "        self.__sound = sound\n",
    "        \n",
    "    def get_sound(self):\n",
    "        return self.__sound\n",
    "    \n",
    "    def get_type(self):\n",
    "        print(\"Animal\")\n",
    "        \n",
    "    def toString(self):\n",
    "        return \"{} is {} cm tall and {} kilograms and say {}\".format(self.__name,\n",
    "                                                                    self.__height,\n",
    "                                                                    self.__weight,\n",
    "                                                                    self.__sound)"
   ]
  },
  {
   "cell_type": "markdown",
   "metadata": {},
   "source": [
    "## create a Animal object"
   ]
  },
  {
   "cell_type": "code",
   "execution_count": 76,
   "metadata": {},
   "outputs": [],
   "source": [
    "cat = Animal('Whiskers', 30,10,'Meow')"
   ]
  },
  {
   "cell_type": "code",
   "execution_count": 102,
   "metadata": {},
   "outputs": [
    {
     "name": "stdout",
     "output_type": "stream",
     "text": [
      "Whiskers is 30 cm tall and 10 kilograms and say Meow\n"
     ]
    }
   ],
   "source": [
    "print(cat.toString())"
   ]
  },
  {
   "cell_type": "markdown",
   "metadata": {},
   "source": [
    "# Inheritance"
   ]
  },
  {
   "cell_type": "code",
   "execution_count": 109,
   "metadata": {},
   "outputs": [],
   "source": [
    "class Dog(Animal):\n",
    "    __owner = ''\n",
    "    \n",
    "    def __init__(self, name, height, weight, sound, owner):\n",
    "        self.__owner = owner\n",
    "        super(Dog, self).__init__(name, height, weight, sound)\n",
    "        \n",
    "    def set_owner(self, owner):\n",
    "        self.__owner = owner\n",
    "        \n",
    "    def get_owner(self):\n",
    "        return self.__owner\n",
    "    \n",
    "    def get_type(self):\n",
    "        print('Dog')\n",
    "        \n",
    "    def toString(self):\n",
    "        return \"{} is {} cm tall and {} kilograms and say {} His owner is {}\".format(self.get_name(),\n",
    "                                                                    self.get_height(),\n",
    "                                                                    self.get_weight(),\n",
    "                                                                    self.get_sound(),\n",
    "                                                                    self.__owner)\n",
    "    \n",
    "    def multiple_sounds(self, how_many = None):\n",
    "        if how_many is None:\n",
    "            print(self.get_sound())\n",
    "        else:\n",
    "            print(self.get_sound() * how_many)"
   ]
  },
  {
   "cell_type": "code",
   "execution_count": 110,
   "metadata": {},
   "outputs": [],
   "source": [
    "spot = Dog(\"Spot\",53,27,'Ruff', 'Layfon Alseif')"
   ]
  },
  {
   "cell_type": "code",
   "execution_count": 111,
   "metadata": {},
   "outputs": [
    {
     "name": "stdout",
     "output_type": "stream",
     "text": [
      "Spot is 53 cm tall and 27 kilograms and say Ruff His owner is Layfon Alseif\n"
     ]
    }
   ],
   "source": [
    "print(spot.toString())"
   ]
  },
  {
   "cell_type": "markdown",
   "metadata": {},
   "source": [
    "# Polymorphism"
   ]
  },
  {
   "cell_type": "code",
   "execution_count": 112,
   "metadata": {},
   "outputs": [],
   "source": [
    "class AnimalTesting:\n",
    "    def get_type(self, animal):\n",
    "        animal.get_type()   "
   ]
  },
  {
   "cell_type": "code",
   "execution_count": 113,
   "metadata": {},
   "outputs": [],
   "source": [
    "test_animals = AnimalTesting()"
   ]
  },
  {
   "cell_type": "code",
   "execution_count": 114,
   "metadata": {},
   "outputs": [
    {
     "name": "stdout",
     "output_type": "stream",
     "text": [
      "Animal\n",
      "Dog\n"
     ]
    }
   ],
   "source": [
    "test_animals.get_type(cat)\n",
    "test_animals.get_type(spot)"
   ]
  },
  {
   "cell_type": "code",
   "execution_count": 115,
   "metadata": {},
   "outputs": [
    {
     "name": "stdout",
     "output_type": "stream",
     "text": [
      "RuffRuffRuffRuff\n"
     ]
    }
   ],
   "source": [
    "spot.multiple_sounds(4)"
   ]
  },
  {
   "cell_type": "code",
   "execution_count": 116,
   "metadata": {},
   "outputs": [
    {
     "name": "stdout",
     "output_type": "stream",
     "text": [
      "Ruff\n"
     ]
    }
   ],
   "source": [
    "spot.multiple_sounds()"
   ]
  }
 ],
 "metadata": {
  "kernelspec": {
   "display_name": "Python 3",
   "language": "python",
   "name": "python3"
  },
  "language_info": {
   "codemirror_mode": {
    "name": "ipython",
    "version": 3
   },
   "file_extension": ".py",
   "mimetype": "text/x-python",
   "name": "python",
   "nbconvert_exporter": "python",
   "pygments_lexer": "ipython3",
   "version": "3.6.4"
  }
 },
 "nbformat": 4,
 "nbformat_minor": 2
}
